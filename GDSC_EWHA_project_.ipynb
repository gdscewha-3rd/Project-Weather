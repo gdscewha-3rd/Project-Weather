{
  "nbformat": 4,
  "nbformat_minor": 0,
  "metadata": {
    "colab": {
      "name": "GDSC EWHA project_.ipynb",
      "provenance": [],
      "collapsed_sections": []
    },
    "kernelspec": {
      "name": "python3",
      "display_name": "Python 3"
    },
    "language_info": {
      "name": "python"
    }
  },
  "cells": [
    {
      "cell_type": "code",
      "source": [
        "#드라이브 연동\n",
        "from google.colab import drive\n",
        "drive.mount('/content/drive')"
      ],
      "metadata": {
        "id": "0WOmUdc7iWI4"
      },
      "execution_count": null,
      "outputs": []
    },
    {
      "cell_type": "code",
      "execution_count": null,
      "metadata": {
        "id": "7d6fnzRmiSs7"
      },
      "outputs": [],
      "source": [
        "import datetime\n",
        "import urllib\n",
        "from bs4 import BeautifulSoup\n",
        "import urllib.request as req\n",
        "\n",
        "now = datetime.datetime.now()\n",
        "nowDate = now.strftime('%Y년 %m월 %d일 %H시 %M분 입니다.')\n",
        "\n",
        "print(\"\\n   Python Weather Crawling 2022 Revise\\n \")\n",
        "print('   Current Datetime, ' + nowDate)\n",
        "print('   오늘의 날씨 정보입니다.\\n')\n",
        "\n",
        "# 기상청 데이터\n",
        "url = \"http://www.weather.go.kr/weather/forecast/mid-term-rss3.jsp\"\n",
        "res = req.urlopen(url)\n",
        "# res = req.urlopen(\"http://www.weather.go.kr/weather/forecast/mid-term-rss3.jsp\")\n",
        "soup = BeautifulSoup(res, \"html.parser\")\n",
        "title = soup.find(\"title\").string\n",
        "weather_info = soup.find(\"wf\").string\n",
        "print(title)\n",
        "#print(weather_info)\n",
        "# print(weather_info.replace(\"<br />\",\"\\n \"),sep='\\n')\n",
        "\n",
        "import ssl\n",
        "# Phase1 Seoul Weather Crawling\n",
        "context = ssl._create_unverified_context()\n",
        "webpage = urllib.request.urlopen('https://search.naver.com/search.naver?sm=top_hty&fbm=0&ie=utf8&query=%EC%84%9C%EC%9A%B8%EB%82%A0%EC%94%A8',context=context)\n",
        "soup = BeautifulSoup(webpage, 'html.parser')\n",
        "temps = soup.find('div','temperature_text')\n",
        "summary = soup.find('p','summary')\n",
        "#print(temps)\n",
        "# print(summary)\n",
        "print(summary.text.strip())\n",
        "print(\"*\"*30)\n",
        "#print(temps.text.strip())\n",
        "\n",
        "#weather = temps.text.strip()[5:]\n",
        "weather = 29\n",
        "print('현재 온도는 ', weather, '입니다.')\n",
        "\n",
        "#weather_int = int(temps.text.strip()[5:-3])\n",
        "weather_int = 29\n",
        "\n",
        "#기온별 옷차림\n",
        "_28 = [28, '민소매', '반팔', '반바지','린넨 셔츠']\n",
        "_23 = [23, '반팔', '얇은 셔츠', '반바지']\n",
        "_20 = [20, '블라우스', '긴팔 티', '면바지', '슬랙스']\n",
        "_17 = [17, '가디건', '니트', '맨투맨', '후드', '긴 바지']\n",
        "_12 = [12, '자켓', '가디건']\n",
        "_9 = [9, '트렌치 코트', '야상', '점퍼', '기모바지']\n",
        "_5 = [5, '울 코트', '히트텍', '가죽 옷']\n",
        "_4 = [4, '패딩', '두꺼운 코트']\n",
        "weather_clothes = [_28, _23, _20, _17, _12, _9, _5, _4]\n",
        "\n",
        "\n",
        "def temp_clothes(w):\n",
        "  for i in range(len(weather_clothes)):\n",
        "    if  w  > weather_clothes[i][0]:\n",
        "      result = weather_clothes[i]\n",
        "      break\n",
        "    else:\n",
        "      result = weather_clothes[-1]\n",
        "  return result\n",
        "\n",
        "clothes = temp_clothes(weather_int)\n",
        "print('현재 온도',weather,'에 알맞는 옷 추천: ', clothes[1:])\n",
        "print('*'*30)\n",
        "\n",
        "\n",
        "#이미지 불러오기\n",
        "import cv2\n",
        "from google.colab.patches import cv2_imshow\n",
        "\n",
        "\n",
        "print('현재 기온에 맞는 추천 코디입니다.\\n')\n",
        "\n",
        "n = 1\n",
        "img_path = '/content/drive/MyDrive/Colab Notebooks/GDSC/image/'\n",
        "for i in range(len(clothes)-1):\n",
        "  print(n,clothes[n])\n",
        "  img_path = '/content/drive/MyDrive/Colab Notebooks/GDSC/image/'\n",
        "  img_path = img_path + clothes[n] + '/1.jpg'\n",
        "  #print(img_path)\n",
        "  img = cv2.imread(img_path)\n",
        "  cv2_imshow(img)\n",
        "  n +=1\n"
      ]
    }
  ]
}